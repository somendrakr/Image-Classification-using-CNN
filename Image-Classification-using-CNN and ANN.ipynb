{
 "cells": [
  {
   "cell_type": "code",
   "execution_count": 59,
   "id": "238a5b30",
   "metadata": {},
   "outputs": [],
   "source": [
    "import tensorflow as tf\n",
    "from tensorflow.keras import datasets, layers, models\n",
    "import matplotlib.pyplot as plt\n",
    "import numpy as np\n",
    "from sklearn.metrics import confusion_matrix , classification_report\n"
   ]
  },
  {
   "cell_type": "code",
   "execution_count": 22,
   "id": "d364bdc9",
   "metadata": {},
   "outputs": [],
   "source": [
    "(X_train, y_train), (X_test,y_test) = datasets.cifar10.load_data()\n"
   ]
  },
  {
   "cell_type": "code",
   "execution_count": 24,
   "id": "f54707f1",
   "metadata": {},
   "outputs": [],
   "source": [
    "# convert the y_train into 1D array\n",
    "y_train = y_train.reshape(-1,)"
   ]
  },
  {
   "cell_type": "code",
   "execution_count": 26,
   "id": "ecc4621a",
   "metadata": {},
   "outputs": [],
   "source": [
    "classes = [\"airplane\",\"automobile\",\"bird\",\"cat\",\"deer\",\"dog\",\"frog\",\"horse\",\"ship\",\"truck\"]"
   ]
  },
  {
   "cell_type": "code",
   "execution_count": 50,
   "id": "9c617a9f",
   "metadata": {},
   "outputs": [],
   "source": [
    "def plot_sample(X, y, index):\n",
    "    plt.figure(figsize = (3,3))\n",
    "    plt.imshow(X[index])\n",
    "    plt.xlabel(classes[y[index]])\n"
   ]
  },
  {
   "cell_type": "code",
   "execution_count": 51,
   "id": "6a62c005",
   "metadata": {},
   "outputs": [
    {
     "data": {
      "image/png": "[encoded data removed]",
      "text/plain": [
       "<Figure size 216x216 with 1 Axes>"
      ]
     },
     "metadata": {
      "needs_background": "light"
     },
     "output_type": "display_data"
    }
   ],
   "source": [
    "plot_sample(X_train, y_train, 7)"
   ]
  },
  {
   "cell_type": "code",
   "execution_count": 52,
   "id": "044c88ba",
   "metadata": {},
   "outputs": [],
   "source": [
    "##Normalize the images to a number from 0 to 1. Image has 3 channels (R,G,B) and each value in the channel can range from 0 to 255. Hence to normalize in 0-->1 range, we need to divide it by 255\n",
    "X_train = X_train / 255.0\n",
    "X_test = X_test / 255.0"
   ]
  },
  {
   "cell_type": "code",
   "execution_count": 56,
   "id": "b78fb8fc",
   "metadata": {},
   "outputs": [
    {
     "name": "stdout",
     "output_type": "stream",
     "text": [
      "Epoch 1/5\n",
      "1563/1563 [==============================] - 88s 54ms/step - loss: 1.8159 - accuracy: 0.3545\n",
      "Epoch 2/5\n",
      "1563/1563 [==============================] - 80s 51ms/step - loss: 1.6265 - accuracy: 0.4271\n",
      "Epoch 3/5\n",
      "1563/1563 [==============================] - 78s 50ms/step - loss: 1.5424 - accuracy: 0.4542\n",
      "Epoch 4/5\n",
      "1563/1563 [==============================] - 82s 53ms/step - loss: 1.4830 - accuracy: 0.4781\n",
      "Epoch 5/5\n",
      "1563/1563 [==============================] - 81s 52ms/step - loss: 1.4312 - accuracy: 0.4961\n"
     ]
    },
    {
     "data": {
      "text/plain": [
       "<keras.callbacks.History at 0x222a2e4dd60>"
      ]
     },
     "execution_count": 56,
     "metadata": {},
     "output_type": "execute_result"
    }
   ],
   "source": [
    "#//BUILDING ARTIFICIAL NEURAL NETWORK FOR IMAGE CLASSIFICATION\n",
    "\n",
    "Ann=models.Sequential([\n",
    "    layers.Flatten(input_shape=(32,32,3)),\n",
    "    layers.Dense(3000,activation='relu'),\n",
    "    layers.Dense(1000,activation='relu'),\n",
    "    layers.Dense(10,activation='softmax')\n",
    "])\n",
    "\n",
    "Ann.compile(optimizer='SGD',\n",
    "              loss='sparse_categorical_crossentropy',\n",
    "              metrics=['accuracy'])\n",
    "\n",
    "Ann.fit(X_train,y_train,epochs=5)"
   ]
  },
  {
   "cell_type": "code",
   "execution_count": null,
   "id": "f4740979",
   "metadata": {},
   "outputs": [],
   "source": [
    "## Accuracy with ANN model is nearly 49%\n"
   ]
  },
  {
   "cell_type": "code",
   "execution_count": 61,
   "id": "98314542",
   "metadata": {},
   "outputs": [
    {
     "name": "stdout",
     "output_type": "stream",
     "text": [
      "Classification Report: \n",
      "               precision    recall  f1-score   support\n",
      "\n",
      "           0       0.39      0.66      0.49      1000\n",
      "           1       0.57      0.62      0.59      1000\n",
      "           2       0.47      0.14      0.21      1000\n",
      "           3       0.37      0.34      0.35      1000\n",
      "           4       0.39      0.52      0.44      1000\n",
      "           5       0.51      0.23      0.32      1000\n",
      "           6       0.61      0.40      0.48      1000\n",
      "           7       0.57      0.48      0.52      1000\n",
      "           8       0.59      0.63      0.61      1000\n",
      "           9       0.42      0.68      0.52      1000\n",
      "\n",
      "    accuracy                           0.47     10000\n",
      "   macro avg       0.49      0.47      0.45     10000\n",
      "weighted avg       0.49      0.47      0.45     10000\n",
      "\n"
     ]
    }
   ],
   "source": [
    "y_pred = Ann.predict(X_test)\n",
    "y_pred_classes = [np.argmax(element) for element in y_pred]\n",
    "\n",
    "print(\"Classification Report: \\n\", classification_report(y_test, y_pred_classes))"
   ]
  },
  {
   "cell_type": "code",
   "execution_count": 169,
   "id": "0001194d",
   "metadata": {},
   "outputs": [
    {
     "data": {
      "text/plain": [
       "[6, 4, 0, 3, 9]"
      ]
     },
     "execution_count": 169,
     "metadata": {},
     "output_type": "execute_result"
    }
   ],
   "source": [
    "y_pred_classes[30:35]"
   ]
  },
  {
   "cell_type": "code",
   "execution_count": 170,
   "id": "b0f5026a",
   "metadata": {},
   "outputs": [
    {
     "data": {
      "text/plain": [
       "array([6, 5, 4, 5, 9], dtype=uint8)"
      ]
     },
     "execution_count": 170,
     "metadata": {},
     "output_type": "execute_result"
    }
   ],
   "source": [
    "y_test[30:35]"
   ]
  },
  {
   "cell_type": "code",
   "execution_count": 182,
   "id": "33ae6653",
   "metadata": {},
   "outputs": [
    {
     "data": {
      "image/png": "[encoded data removed]",
      "text/plain": [
       "<Figure size 216x216 with 1 Axes>"
      ]
     },
     "metadata": {
      "needs_background": "light"
     },
     "output_type": "display_data"
    }
   ],
   "source": [
    "plot_sample(X_train, y_test, 0)"
   ]
  },
  {
   "cell_type": "code",
   "execution_count": null,
   "id": "4c1e8975",
   "metadata": {},
   "outputs": [],
   "source": [
    "##CNN model for the image classification\n"
   ]
  },
  {
   "cell_type": "code",
   "execution_count": 62,
   "id": "87bcd565",
   "metadata": {},
   "outputs": [],
   "source": [
    "cnn=models.Sequential([\n",
    "    layers.Conv2D(filters=32,kernel_size=(3,3),activation='relu',input_shape=(32,32,3)),\n",
    "    layers.MaxPooling2D((2,2)),\n",
    "    layers.Conv2D(filters=64,kernel_size=(3,3),activation='relu'),\n",
    "    layers.MaxPooling2D((2,2)),\n",
    "    \n",
    "    layers.Flatten(),\n",
    "    layers.Dense(64,activation='relu'),\n",
    "    layers.Dense(10,activation='softmax')\n",
    "    \n",
    "])"
   ]
  },
  {
   "cell_type": "code",
   "execution_count": 65,
   "id": "432d3bdc",
   "metadata": {},
   "outputs": [],
   "source": [
    "cnn.compile(optimizer='adam',loss='sparse_categorical_crossentropy',metrics=['accuracy'])\n",
    "# cnn.compile(optimizer='adam',\n",
    "#               loss='sparse_categorical_crossentropy',\n",
    "#               metrics=['accuracy'])"
   ]
  },
  {
   "cell_type": "code",
   "execution_count": 66,
   "id": "54048810",
   "metadata": {},
   "outputs": [
    {
     "name": "stdout",
     "output_type": "stream",
     "text": [
      "Epoch 1/10\n",
      "1563/1563 [==============================] - 45s 28ms/step - loss: 1.5253 - accuracy: 0.4472\n",
      "Epoch 2/10\n",
      "1563/1563 [==============================] - 45s 29ms/step - loss: 1.1578 - accuracy: 0.5931\n",
      "Epoch 3/10\n",
      "1563/1563 [==============================] - 45s 29ms/step - loss: 1.0214 - accuracy: 0.6444\n",
      "Epoch 4/10\n",
      "1563/1563 [==============================] - 46s 29ms/step - loss: 0.9407 - accuracy: 0.6740\n",
      "Epoch 5/10\n",
      "1563/1563 [==============================] - 46s 29ms/step - loss: 0.8791 - accuracy: 0.6960\n",
      "Epoch 6/10\n",
      "1563/1563 [==============================] - 46s 30ms/step - loss: 0.8342 - accuracy: 0.7103\n",
      "Epoch 7/10\n",
      "1563/1563 [==============================] - 46s 30ms/step - loss: 0.7927 - accuracy: 0.7249\n",
      "Epoch 8/10\n",
      "1563/1563 [==============================] - 48s 30ms/step - loss: 0.7580 - accuracy: 0.7367\n",
      "Epoch 9/10\n",
      "1563/1563 [==============================] - 45s 29ms/step - loss: 0.7231 - accuracy: 0.7479\n",
      "Epoch 10/10\n",
      "1563/1563 [==============================] - 44s 28ms/step - loss: 0.6961 - accuracy: 0.7582\n"
     ]
    },
    {
     "data": {
      "text/plain": [
       "<keras.callbacks.History at 0x222a7076e20>"
      ]
     },
     "execution_count": 66,
     "metadata": {},
     "output_type": "execute_result"
    }
   ],
   "source": [
    "cnn.fit(X_train, y_train, epochs=10)"
   ]
  },
  {
   "cell_type": "code",
   "execution_count": 67,
   "id": "a105da13",
   "metadata": {},
   "outputs": [
    {
     "name": "stdout",
     "output_type": "stream",
     "text": [
      "313/313 [==============================] - 4s 10ms/step - loss: 0.9223 - accuracy: 0.6937\n"
     ]
    },
    {
     "data": {
      "text/plain": [
       "[0.9222888946533203, 0.6937000155448914]"
      ]
     },
     "execution_count": 67,
     "metadata": {},
     "output_type": "execute_result"
    }
   ],
   "source": [
    "cnn.evaluate(X_test,y_test)"
   ]
  },
  {
   "cell_type": "code",
   "execution_count": 142,
   "id": "6bc2aa7f",
   "metadata": {},
   "outputs": [],
   "source": [
    "y_predcnn = cnn.predict(X_test)"
   ]
  },
  {
   "cell_type": "code",
   "execution_count": 153,
   "id": "9589ac1e",
   "metadata": {},
   "outputs": [
    {
     "data": {
      "text/plain": [
       "[6, 5, 2, 5, 9]"
      ]
     },
     "execution_count": 153,
     "metadata": {},
     "output_type": "execute_result"
    }
   ],
   "source": [
    "y_classes = [np.argmax(element) for element in y_predcnn]\n",
    "y_classes[30:35]"
   ]
  },
  {
   "cell_type": "code",
   "execution_count": 163,
   "id": "3a0cf9ed",
   "metadata": {},
   "outputs": [
    {
     "data": {
      "text/plain": [
       "array([6, 5, 4, 5, 9], dtype=uint8)"
      ]
     },
     "execution_count": 163,
     "metadata": {},
     "output_type": "execute_result"
    }
   ],
   "source": [
    "y_test[30:35]"
   ]
  },
  {
   "cell_type": "code",
   "execution_count": null,
   "id": "f06e62b1",
   "metadata": {},
   "outputs": [],
   "source": []
  },
  {
   "cell_type": "code",
   "execution_count": 181,
   "id": "f2bea6f1",
   "metadata": {},
   "outputs": [
    {
     "data": {
      "image/png": "[encoded data removed]",
      "text/plain": [
       "<Figure size 216x216 with 1 Axes>"
      ]
     },
     "metadata": {
      "needs_background": "light"
     },
     "output_type": "display_data"
    }
   ],
   "source": [
    "plot_sample(X_test, y_test,32)"
   ]
  },
  {
   "cell_type": "code",
   "execution_count": 183,
   "id": "b0d18ae0",
   "metadata": {},
   "outputs": [
    {
     "name": "stdout",
     "output_type": "stream",
     "text": [
      "Classification Report: \n",
      "               precision    recall  f1-score   support\n",
      "\n",
      "           0       0.71      0.78      0.74      1000\n",
      "           1       0.80      0.83      0.81      1000\n",
      "           2       0.58      0.58      0.58      1000\n",
      "           3       0.48      0.55      0.51      1000\n",
      "           4       0.70      0.52      0.60      1000\n",
      "           5       0.61      0.58      0.60      1000\n",
      "           6       0.73      0.81      0.77      1000\n",
      "           7       0.75      0.74      0.75      1000\n",
      "           8       0.84      0.79      0.81      1000\n",
      "           9       0.77      0.76      0.77      1000\n",
      "\n",
      "    accuracy                           0.69     10000\n",
      "   macro avg       0.70      0.69      0.69     10000\n",
      "weighted avg       0.70      0.69      0.69     10000\n",
      "\n"
     ]
    }
   ],
   "source": [
    "y_predcnn = cnn.predict(X_test)\n",
    "y_classes = [np.argmax(element) for element in y_predcnn]\n",
    "\n",
    "print(\"Classification Report: \\n\", classification_report(y_test, y_classes))"
   ]
  },
  {
   "cell_type": "code",
   "execution_count": null,
   "id": "66b1dc8e",
   "metadata": {},
   "outputs": [],
   "source": []
  }
 ],
 "metadata": {
  "kernelspec": {
   "display_name": "Python 3 (ipykernel)",
   "language": "python",
   "name": "python3"
  },
  "language_info": {
   "codemirror_mode": {
    "name": "ipython",
    "version": 3
   },
   "file_extension": ".py",
   "mimetype": "text/x-python",
   "name": "python",
   "nbconvert_exporter": "python",
   "pygments_lexer": "ipython3",
   "version": "3.9.5"
  }
 },
 "nbformat": 4,
 "nbformat_minor": 5
}
